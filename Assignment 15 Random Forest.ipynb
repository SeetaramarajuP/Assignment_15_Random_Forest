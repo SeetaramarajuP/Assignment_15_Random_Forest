{
  "cells": [
    {
      "metadata": {},
      "id": "734d67af",
      "cell_type": "markdown",
      "source": "# Compamy Data  Question 1"
    },
    {
      "metadata": {
        "ExecuteTime": {
          "end_time": "2023-06-20T11:09:41.094877Z",
          "start_time": "2023-06-20T11:09:27.407422Z"
        },
        "trusted": false
      },
      "id": "45fc4e98",
      "cell_type": "code",
      "source": "import pandas as pd \nfrom sklearn.model_selection import KFold\nfrom sklearn.model_selection import cross_val_score\nfrom sklearn.ensemble import BaggingClassifier\nfrom sklearn.tree import DecisionTreeClassifier",
      "execution_count": 1,
      "outputs": []
    },
    {
      "metadata": {
        "ExecuteTime": {
          "end_time": "2023-06-20T11:19:30.879428Z",
          "start_time": "2023-06-20T11:19:30.625540Z"
        },
        "trusted": false
      },
      "id": "091dcf3b",
      "cell_type": "code",
      "source": "company=pd.read_csv('Company_Data.csv')\ncompany",
      "execution_count": 6,
      "outputs": [
        {
          "data": {
            "text/html": "<div>\n<style scoped>\n    .dataframe tbody tr th:only-of-type {\n        vertical-align: middle;\n    }\n\n    .dataframe tbody tr th {\n        vertical-align: top;\n    }\n\n    .dataframe thead th {\n        text-align: right;\n    }\n</style>\n<table border=\"1\" class=\"dataframe\">\n  <thead>\n    <tr style=\"text-align: right;\">\n      <th></th>\n      <th>Sales</th>\n      <th>CompPrice</th>\n      <th>Income</th>\n      <th>Advertising</th>\n      <th>Population</th>\n      <th>Price</th>\n      <th>ShelveLoc</th>\n      <th>Age</th>\n      <th>Education</th>\n      <th>Urban</th>\n      <th>US</th>\n    </tr>\n  </thead>\n  <tbody>\n    <tr>\n      <th>0</th>\n      <td>9.50</td>\n      <td>138</td>\n      <td>73</td>\n      <td>11</td>\n      <td>276</td>\n      <td>120</td>\n      <td>Bad</td>\n      <td>42</td>\n      <td>17</td>\n      <td>Yes</td>\n      <td>Yes</td>\n    </tr>\n    <tr>\n      <th>1</th>\n      <td>11.22</td>\n      <td>111</td>\n      <td>48</td>\n      <td>16</td>\n      <td>260</td>\n      <td>83</td>\n      <td>Good</td>\n      <td>65</td>\n      <td>10</td>\n      <td>Yes</td>\n      <td>Yes</td>\n    </tr>\n    <tr>\n      <th>2</th>\n      <td>10.06</td>\n      <td>113</td>\n      <td>35</td>\n      <td>10</td>\n      <td>269</td>\n      <td>80</td>\n      <td>Medium</td>\n      <td>59</td>\n      <td>12</td>\n      <td>Yes</td>\n      <td>Yes</td>\n    </tr>\n    <tr>\n      <th>3</th>\n      <td>7.40</td>\n      <td>117</td>\n      <td>100</td>\n      <td>4</td>\n      <td>466</td>\n      <td>97</td>\n      <td>Medium</td>\n      <td>55</td>\n      <td>14</td>\n      <td>Yes</td>\n      <td>Yes</td>\n    </tr>\n    <tr>\n      <th>4</th>\n      <td>4.15</td>\n      <td>141</td>\n      <td>64</td>\n      <td>3</td>\n      <td>340</td>\n      <td>128</td>\n      <td>Bad</td>\n      <td>38</td>\n      <td>13</td>\n      <td>Yes</td>\n      <td>No</td>\n    </tr>\n    <tr>\n      <th>...</th>\n      <td>...</td>\n      <td>...</td>\n      <td>...</td>\n      <td>...</td>\n      <td>...</td>\n      <td>...</td>\n      <td>...</td>\n      <td>...</td>\n      <td>...</td>\n      <td>...</td>\n      <td>...</td>\n    </tr>\n    <tr>\n      <th>395</th>\n      <td>12.57</td>\n      <td>138</td>\n      <td>108</td>\n      <td>17</td>\n      <td>203</td>\n      <td>128</td>\n      <td>Good</td>\n      <td>33</td>\n      <td>14</td>\n      <td>Yes</td>\n      <td>Yes</td>\n    </tr>\n    <tr>\n      <th>396</th>\n      <td>6.14</td>\n      <td>139</td>\n      <td>23</td>\n      <td>3</td>\n      <td>37</td>\n      <td>120</td>\n      <td>Medium</td>\n      <td>55</td>\n      <td>11</td>\n      <td>No</td>\n      <td>Yes</td>\n    </tr>\n    <tr>\n      <th>397</th>\n      <td>7.41</td>\n      <td>162</td>\n      <td>26</td>\n      <td>12</td>\n      <td>368</td>\n      <td>159</td>\n      <td>Medium</td>\n      <td>40</td>\n      <td>18</td>\n      <td>Yes</td>\n      <td>Yes</td>\n    </tr>\n    <tr>\n      <th>398</th>\n      <td>5.94</td>\n      <td>100</td>\n      <td>79</td>\n      <td>7</td>\n      <td>284</td>\n      <td>95</td>\n      <td>Bad</td>\n      <td>50</td>\n      <td>12</td>\n      <td>Yes</td>\n      <td>Yes</td>\n    </tr>\n    <tr>\n      <th>399</th>\n      <td>9.71</td>\n      <td>134</td>\n      <td>37</td>\n      <td>0</td>\n      <td>27</td>\n      <td>120</td>\n      <td>Good</td>\n      <td>49</td>\n      <td>16</td>\n      <td>Yes</td>\n      <td>Yes</td>\n    </tr>\n  </tbody>\n</table>\n<p>400 rows × 11 columns</p>\n</div>",
            "text/plain": "     Sales  CompPrice  Income  Advertising  Population  Price ShelveLoc  Age  \\\n0     9.50        138      73           11         276    120       Bad   42   \n1    11.22        111      48           16         260     83      Good   65   \n2    10.06        113      35           10         269     80    Medium   59   \n3     7.40        117     100            4         466     97    Medium   55   \n4     4.15        141      64            3         340    128       Bad   38   \n..     ...        ...     ...          ...         ...    ...       ...  ...   \n395  12.57        138     108           17         203    128      Good   33   \n396   6.14        139      23            3          37    120    Medium   55   \n397   7.41        162      26           12         368    159    Medium   40   \n398   5.94        100      79            7         284     95       Bad   50   \n399   9.71        134      37            0          27    120      Good   49   \n\n     Education Urban   US  \n0           17   Yes  Yes  \n1           10   Yes  Yes  \n2           12   Yes  Yes  \n3           14   Yes  Yes  \n4           13   Yes   No  \n..         ...   ...  ...  \n395         14   Yes  Yes  \n396         11    No  Yes  \n397         18   Yes  Yes  \n398         12   Yes  Yes  \n399         16   Yes  Yes  \n\n[400 rows x 11 columns]"
          },
          "execution_count": 6,
          "metadata": {},
          "output_type": "execute_result"
        }
      ]
    },
    {
      "metadata": {
        "ExecuteTime": {
          "end_time": "2023-06-20T11:23:05.011059Z",
          "start_time": "2023-06-20T11:23:04.912196Z"
        },
        "trusted": false
      },
      "id": "853b16b3",
      "cell_type": "code",
      "source": "company['ShelveLoc']=company['ShelveLoc'].map({'Good':3,'Medium':2,'Bad':1})\ncompany",
      "execution_count": 7,
      "outputs": [
        {
          "data": {
            "text/html": "<div>\n<style scoped>\n    .dataframe tbody tr th:only-of-type {\n        vertical-align: middle;\n    }\n\n    .dataframe tbody tr th {\n        vertical-align: top;\n    }\n\n    .dataframe thead th {\n        text-align: right;\n    }\n</style>\n<table border=\"1\" class=\"dataframe\">\n  <thead>\n    <tr style=\"text-align: right;\">\n      <th></th>\n      <th>Sales</th>\n      <th>CompPrice</th>\n      <th>Income</th>\n      <th>Advertising</th>\n      <th>Population</th>\n      <th>Price</th>\n      <th>ShelveLoc</th>\n      <th>Age</th>\n      <th>Education</th>\n      <th>Urban</th>\n      <th>US</th>\n    </tr>\n  </thead>\n  <tbody>\n    <tr>\n      <th>0</th>\n      <td>9.50</td>\n      <td>138</td>\n      <td>73</td>\n      <td>11</td>\n      <td>276</td>\n      <td>120</td>\n      <td>1</td>\n      <td>42</td>\n      <td>17</td>\n      <td>Yes</td>\n      <td>Yes</td>\n    </tr>\n    <tr>\n      <th>1</th>\n      <td>11.22</td>\n      <td>111</td>\n      <td>48</td>\n      <td>16</td>\n      <td>260</td>\n      <td>83</td>\n      <td>3</td>\n      <td>65</td>\n      <td>10</td>\n      <td>Yes</td>\n      <td>Yes</td>\n    </tr>\n    <tr>\n      <th>2</th>\n      <td>10.06</td>\n      <td>113</td>\n      <td>35</td>\n      <td>10</td>\n      <td>269</td>\n      <td>80</td>\n      <td>2</td>\n      <td>59</td>\n      <td>12</td>\n      <td>Yes</td>\n      <td>Yes</td>\n    </tr>\n    <tr>\n      <th>3</th>\n      <td>7.40</td>\n      <td>117</td>\n      <td>100</td>\n      <td>4</td>\n      <td>466</td>\n      <td>97</td>\n      <td>2</td>\n      <td>55</td>\n      <td>14</td>\n      <td>Yes</td>\n      <td>Yes</td>\n    </tr>\n    <tr>\n      <th>4</th>\n      <td>4.15</td>\n      <td>141</td>\n      <td>64</td>\n      <td>3</td>\n      <td>340</td>\n      <td>128</td>\n      <td>1</td>\n      <td>38</td>\n      <td>13</td>\n      <td>Yes</td>\n      <td>No</td>\n    </tr>\n    <tr>\n      <th>...</th>\n      <td>...</td>\n      <td>...</td>\n      <td>...</td>\n      <td>...</td>\n      <td>...</td>\n      <td>...</td>\n      <td>...</td>\n      <td>...</td>\n      <td>...</td>\n      <td>...</td>\n      <td>...</td>\n    </tr>\n    <tr>\n      <th>395</th>\n      <td>12.57</td>\n      <td>138</td>\n      <td>108</td>\n      <td>17</td>\n      <td>203</td>\n      <td>128</td>\n      <td>3</td>\n      <td>33</td>\n      <td>14</td>\n      <td>Yes</td>\n      <td>Yes</td>\n    </tr>\n    <tr>\n      <th>396</th>\n      <td>6.14</td>\n      <td>139</td>\n      <td>23</td>\n      <td>3</td>\n      <td>37</td>\n      <td>120</td>\n      <td>2</td>\n      <td>55</td>\n      <td>11</td>\n      <td>No</td>\n      <td>Yes</td>\n    </tr>\n    <tr>\n      <th>397</th>\n      <td>7.41</td>\n      <td>162</td>\n      <td>26</td>\n      <td>12</td>\n      <td>368</td>\n      <td>159</td>\n      <td>2</td>\n      <td>40</td>\n      <td>18</td>\n      <td>Yes</td>\n      <td>Yes</td>\n    </tr>\n    <tr>\n      <th>398</th>\n      <td>5.94</td>\n      <td>100</td>\n      <td>79</td>\n      <td>7</td>\n      <td>284</td>\n      <td>95</td>\n      <td>1</td>\n      <td>50</td>\n      <td>12</td>\n      <td>Yes</td>\n      <td>Yes</td>\n    </tr>\n    <tr>\n      <th>399</th>\n      <td>9.71</td>\n      <td>134</td>\n      <td>37</td>\n      <td>0</td>\n      <td>27</td>\n      <td>120</td>\n      <td>3</td>\n      <td>49</td>\n      <td>16</td>\n      <td>Yes</td>\n      <td>Yes</td>\n    </tr>\n  </tbody>\n</table>\n<p>400 rows × 11 columns</p>\n</div>",
            "text/plain": "     Sales  CompPrice  Income  Advertising  Population  Price  ShelveLoc  Age  \\\n0     9.50        138      73           11         276    120          1   42   \n1    11.22        111      48           16         260     83          3   65   \n2    10.06        113      35           10         269     80          2   59   \n3     7.40        117     100            4         466     97          2   55   \n4     4.15        141      64            3         340    128          1   38   \n..     ...        ...     ...          ...         ...    ...        ...  ...   \n395  12.57        138     108           17         203    128          3   33   \n396   6.14        139      23            3          37    120          2   55   \n397   7.41        162      26           12         368    159          2   40   \n398   5.94        100      79            7         284     95          1   50   \n399   9.71        134      37            0          27    120          3   49   \n\n     Education Urban   US  \n0           17   Yes  Yes  \n1           10   Yes  Yes  \n2           12   Yes  Yes  \n3           14   Yes  Yes  \n4           13   Yes   No  \n..         ...   ...  ...  \n395         14   Yes  Yes  \n396         11    No  Yes  \n397         18   Yes  Yes  \n398         12   Yes  Yes  \n399         16   Yes  Yes  \n\n[400 rows x 11 columns]"
          },
          "execution_count": 7,
          "metadata": {},
          "output_type": "execute_result"
        }
      ]
    },
    {
      "metadata": {
        "ExecuteTime": {
          "end_time": "2023-06-20T11:27:10.665522Z",
          "start_time": "2023-06-20T11:27:10.486627Z"
        },
        "trusted": false
      },
      "id": "76c29a51",
      "cell_type": "code",
      "source": "company=pd.get_dummies(company,columns=['Urban','US'],drop_first=True)\ncompany",
      "execution_count": 8,
      "outputs": [
        {
          "data": {
            "text/html": "<div>\n<style scoped>\n    .dataframe tbody tr th:only-of-type {\n        vertical-align: middle;\n    }\n\n    .dataframe tbody tr th {\n        vertical-align: top;\n    }\n\n    .dataframe thead th {\n        text-align: right;\n    }\n</style>\n<table border=\"1\" class=\"dataframe\">\n  <thead>\n    <tr style=\"text-align: right;\">\n      <th></th>\n      <th>Sales</th>\n      <th>CompPrice</th>\n      <th>Income</th>\n      <th>Advertising</th>\n      <th>Population</th>\n      <th>Price</th>\n      <th>ShelveLoc</th>\n      <th>Age</th>\n      <th>Education</th>\n      <th>Urban_Yes</th>\n      <th>US_Yes</th>\n    </tr>\n  </thead>\n  <tbody>\n    <tr>\n      <th>0</th>\n      <td>9.50</td>\n      <td>138</td>\n      <td>73</td>\n      <td>11</td>\n      <td>276</td>\n      <td>120</td>\n      <td>1</td>\n      <td>42</td>\n      <td>17</td>\n      <td>1</td>\n      <td>1</td>\n    </tr>\n    <tr>\n      <th>1</th>\n      <td>11.22</td>\n      <td>111</td>\n      <td>48</td>\n      <td>16</td>\n      <td>260</td>\n      <td>83</td>\n      <td>3</td>\n      <td>65</td>\n      <td>10</td>\n      <td>1</td>\n      <td>1</td>\n    </tr>\n    <tr>\n      <th>2</th>\n      <td>10.06</td>\n      <td>113</td>\n      <td>35</td>\n      <td>10</td>\n      <td>269</td>\n      <td>80</td>\n      <td>2</td>\n      <td>59</td>\n      <td>12</td>\n      <td>1</td>\n      <td>1</td>\n    </tr>\n    <tr>\n      <th>3</th>\n      <td>7.40</td>\n      <td>117</td>\n      <td>100</td>\n      <td>4</td>\n      <td>466</td>\n      <td>97</td>\n      <td>2</td>\n      <td>55</td>\n      <td>14</td>\n      <td>1</td>\n      <td>1</td>\n    </tr>\n    <tr>\n      <th>4</th>\n      <td>4.15</td>\n      <td>141</td>\n      <td>64</td>\n      <td>3</td>\n      <td>340</td>\n      <td>128</td>\n      <td>1</td>\n      <td>38</td>\n      <td>13</td>\n      <td>1</td>\n      <td>0</td>\n    </tr>\n    <tr>\n      <th>...</th>\n      <td>...</td>\n      <td>...</td>\n      <td>...</td>\n      <td>...</td>\n      <td>...</td>\n      <td>...</td>\n      <td>...</td>\n      <td>...</td>\n      <td>...</td>\n      <td>...</td>\n      <td>...</td>\n    </tr>\n    <tr>\n      <th>395</th>\n      <td>12.57</td>\n      <td>138</td>\n      <td>108</td>\n      <td>17</td>\n      <td>203</td>\n      <td>128</td>\n      <td>3</td>\n      <td>33</td>\n      <td>14</td>\n      <td>1</td>\n      <td>1</td>\n    </tr>\n    <tr>\n      <th>396</th>\n      <td>6.14</td>\n      <td>139</td>\n      <td>23</td>\n      <td>3</td>\n      <td>37</td>\n      <td>120</td>\n      <td>2</td>\n      <td>55</td>\n      <td>11</td>\n      <td>0</td>\n      <td>1</td>\n    </tr>\n    <tr>\n      <th>397</th>\n      <td>7.41</td>\n      <td>162</td>\n      <td>26</td>\n      <td>12</td>\n      <td>368</td>\n      <td>159</td>\n      <td>2</td>\n      <td>40</td>\n      <td>18</td>\n      <td>1</td>\n      <td>1</td>\n    </tr>\n    <tr>\n      <th>398</th>\n      <td>5.94</td>\n      <td>100</td>\n      <td>79</td>\n      <td>7</td>\n      <td>284</td>\n      <td>95</td>\n      <td>1</td>\n      <td>50</td>\n      <td>12</td>\n      <td>1</td>\n      <td>1</td>\n    </tr>\n    <tr>\n      <th>399</th>\n      <td>9.71</td>\n      <td>134</td>\n      <td>37</td>\n      <td>0</td>\n      <td>27</td>\n      <td>120</td>\n      <td>3</td>\n      <td>49</td>\n      <td>16</td>\n      <td>1</td>\n      <td>1</td>\n    </tr>\n  </tbody>\n</table>\n<p>400 rows × 11 columns</p>\n</div>",
            "text/plain": "     Sales  CompPrice  Income  Advertising  Population  Price  ShelveLoc  Age  \\\n0     9.50        138      73           11         276    120          1   42   \n1    11.22        111      48           16         260     83          3   65   \n2    10.06        113      35           10         269     80          2   59   \n3     7.40        117     100            4         466     97          2   55   \n4     4.15        141      64            3         340    128          1   38   \n..     ...        ...     ...          ...         ...    ...        ...  ...   \n395  12.57        138     108           17         203    128          3   33   \n396   6.14        139      23            3          37    120          2   55   \n397   7.41        162      26           12         368    159          2   40   \n398   5.94        100      79            7         284     95          1   50   \n399   9.71        134      37            0          27    120          3   49   \n\n     Education  Urban_Yes  US_Yes  \n0           17          1       1  \n1           10          1       1  \n2           12          1       1  \n3           14          1       1  \n4           13          1       0  \n..         ...        ...     ...  \n395         14          1       1  \n396         11          0       1  \n397         18          1       1  \n398         12          1       1  \n399         16          1       1  \n\n[400 rows x 11 columns]"
          },
          "execution_count": 8,
          "metadata": {},
          "output_type": "execute_result"
        }
      ]
    },
    {
      "metadata": {
        "ExecuteTime": {
          "end_time": "2023-06-20T11:33:05.037569Z",
          "start_time": "2023-06-20T11:33:04.979715Z"
        },
        "trusted": false
      },
      "id": "86d72b00",
      "cell_type": "code",
      "source": "x=company.drop(['ShelveLoc'],axis=1)\ny=company['ShelveLoc']\nx",
      "execution_count": 9,
      "outputs": [
        {
          "data": {
            "text/html": "<div>\n<style scoped>\n    .dataframe tbody tr th:only-of-type {\n        vertical-align: middle;\n    }\n\n    .dataframe tbody tr th {\n        vertical-align: top;\n    }\n\n    .dataframe thead th {\n        text-align: right;\n    }\n</style>\n<table border=\"1\" class=\"dataframe\">\n  <thead>\n    <tr style=\"text-align: right;\">\n      <th></th>\n      <th>Sales</th>\n      <th>CompPrice</th>\n      <th>Income</th>\n      <th>Advertising</th>\n      <th>Population</th>\n      <th>Price</th>\n      <th>Age</th>\n      <th>Education</th>\n      <th>Urban_Yes</th>\n      <th>US_Yes</th>\n    </tr>\n  </thead>\n  <tbody>\n    <tr>\n      <th>0</th>\n      <td>9.50</td>\n      <td>138</td>\n      <td>73</td>\n      <td>11</td>\n      <td>276</td>\n      <td>120</td>\n      <td>42</td>\n      <td>17</td>\n      <td>1</td>\n      <td>1</td>\n    </tr>\n    <tr>\n      <th>1</th>\n      <td>11.22</td>\n      <td>111</td>\n      <td>48</td>\n      <td>16</td>\n      <td>260</td>\n      <td>83</td>\n      <td>65</td>\n      <td>10</td>\n      <td>1</td>\n      <td>1</td>\n    </tr>\n    <tr>\n      <th>2</th>\n      <td>10.06</td>\n      <td>113</td>\n      <td>35</td>\n      <td>10</td>\n      <td>269</td>\n      <td>80</td>\n      <td>59</td>\n      <td>12</td>\n      <td>1</td>\n      <td>1</td>\n    </tr>\n    <tr>\n      <th>3</th>\n      <td>7.40</td>\n      <td>117</td>\n      <td>100</td>\n      <td>4</td>\n      <td>466</td>\n      <td>97</td>\n      <td>55</td>\n      <td>14</td>\n      <td>1</td>\n      <td>1</td>\n    </tr>\n    <tr>\n      <th>4</th>\n      <td>4.15</td>\n      <td>141</td>\n      <td>64</td>\n      <td>3</td>\n      <td>340</td>\n      <td>128</td>\n      <td>38</td>\n      <td>13</td>\n      <td>1</td>\n      <td>0</td>\n    </tr>\n    <tr>\n      <th>...</th>\n      <td>...</td>\n      <td>...</td>\n      <td>...</td>\n      <td>...</td>\n      <td>...</td>\n      <td>...</td>\n      <td>...</td>\n      <td>...</td>\n      <td>...</td>\n      <td>...</td>\n    </tr>\n    <tr>\n      <th>395</th>\n      <td>12.57</td>\n      <td>138</td>\n      <td>108</td>\n      <td>17</td>\n      <td>203</td>\n      <td>128</td>\n      <td>33</td>\n      <td>14</td>\n      <td>1</td>\n      <td>1</td>\n    </tr>\n    <tr>\n      <th>396</th>\n      <td>6.14</td>\n      <td>139</td>\n      <td>23</td>\n      <td>3</td>\n      <td>37</td>\n      <td>120</td>\n      <td>55</td>\n      <td>11</td>\n      <td>0</td>\n      <td>1</td>\n    </tr>\n    <tr>\n      <th>397</th>\n      <td>7.41</td>\n      <td>162</td>\n      <td>26</td>\n      <td>12</td>\n      <td>368</td>\n      <td>159</td>\n      <td>40</td>\n      <td>18</td>\n      <td>1</td>\n      <td>1</td>\n    </tr>\n    <tr>\n      <th>398</th>\n      <td>5.94</td>\n      <td>100</td>\n      <td>79</td>\n      <td>7</td>\n      <td>284</td>\n      <td>95</td>\n      <td>50</td>\n      <td>12</td>\n      <td>1</td>\n      <td>1</td>\n    </tr>\n    <tr>\n      <th>399</th>\n      <td>9.71</td>\n      <td>134</td>\n      <td>37</td>\n      <td>0</td>\n      <td>27</td>\n      <td>120</td>\n      <td>49</td>\n      <td>16</td>\n      <td>1</td>\n      <td>1</td>\n    </tr>\n  </tbody>\n</table>\n<p>400 rows × 10 columns</p>\n</div>",
            "text/plain": "     Sales  CompPrice  Income  Advertising  Population  Price  Age  Education  \\\n0     9.50        138      73           11         276    120   42         17   \n1    11.22        111      48           16         260     83   65         10   \n2    10.06        113      35           10         269     80   59         12   \n3     7.40        117     100            4         466     97   55         14   \n4     4.15        141      64            3         340    128   38         13   \n..     ...        ...     ...          ...         ...    ...  ...        ...   \n395  12.57        138     108           17         203    128   33         14   \n396   6.14        139      23            3          37    120   55         11   \n397   7.41        162      26           12         368    159   40         18   \n398   5.94        100      79            7         284     95   50         12   \n399   9.71        134      37            0          27    120   49         16   \n\n     Urban_Yes  US_Yes  \n0            1       1  \n1            1       1  \n2            1       1  \n3            1       1  \n4            1       0  \n..         ...     ...  \n395          1       1  \n396          0       1  \n397          1       1  \n398          1       1  \n399          1       1  \n\n[400 rows x 10 columns]"
          },
          "execution_count": 9,
          "metadata": {},
          "output_type": "execute_result"
        }
      ]
    },
    {
      "metadata": {
        "ExecuteTime": {
          "end_time": "2023-06-20T11:33:18.618818Z",
          "start_time": "2023-06-20T11:33:18.598121Z"
        },
        "trusted": false
      },
      "id": "f662a345",
      "cell_type": "code",
      "source": "y",
      "execution_count": 10,
      "outputs": [
        {
          "data": {
            "text/plain": "0      1\n1      3\n2      2\n3      2\n4      1\n      ..\n395    3\n396    2\n397    2\n398    1\n399    3\nName: ShelveLoc, Length: 400, dtype: int64"
          },
          "execution_count": 10,
          "metadata": {},
          "output_type": "execute_result"
        }
      ]
    },
    {
      "metadata": {
        "ExecuteTime": {
          "end_time": "2023-06-20T11:37:39.317269Z",
          "start_time": "2023-06-20T11:37:36.708016Z"
        },
        "trusted": false
      },
      "id": "7d7aae07",
      "cell_type": "code",
      "source": "seed=7\nkfold=KFold(n_splits=10,random_state=seed,shuffle=True)\ncart=DecisionTreeClassifier()\nnum_trees=50\nmodel_B_1=BaggingClassifier(base_estimator=cart,n_estimators=num_trees,random_state=seed)\nresult=cross_val_score(model_B_1,x,y,cv=kfold)\nprint(result.mean())",
      "execution_count": 11,
      "outputs": [
        {
          "name": "stdout",
          "output_type": "stream",
          "text": "0.6599999999999999\n"
        }
      ]
    },
    {
      "metadata": {
        "ExecuteTime": {
          "end_time": "2023-06-20T11:50:00.832684Z",
          "start_time": "2023-06-20T11:50:00.811821Z"
        },
        "trusted": false
      },
      "id": "831d06de",
      "cell_type": "code",
      "source": "from sklearn.ensemble import RandomForestClassifier\nX=company.drop(['ShelveLoc'],axis=1)\nY=company['ShelveLoc']",
      "execution_count": 16,
      "outputs": []
    },
    {
      "metadata": {
        "ExecuteTime": {
          "end_time": "2023-06-20T11:53:05.301825Z",
          "start_time": "2023-06-20T11:53:03.551497Z"
        },
        "trusted": false
      },
      "id": "7ec6d169",
      "cell_type": "code",
      "source": "num_trees=50 \nKfold=KFold(n_splits=10,random_state=seed,shuffle=True)\nmodel_RF_1=RandomForestClassifier(n_estimators=num_trees,max_features=3)\nResult=cross_val_score(model_RF_1,X,Y,cv=Kfold)\nprint(Result.mean())",
      "execution_count": 17,
      "outputs": [
        {
          "name": "stdout",
          "output_type": "stream",
          "text": "0.645\n"
        }
      ]
    },
    {
      "metadata": {
        "ExecuteTime": {
          "end_time": "2023-06-20T12:31:23.251940Z",
          "start_time": "2023-06-20T12:31:23.235942Z"
        },
        "trusted": false
      },
      "id": "f6b15153",
      "cell_type": "code",
      "source": "from sklearn.model_selection import train_test_split\nX_train,X_test,Y_train,Y_test=train_test_split(X,Y,test_size=0.2,random_state=7)",
      "execution_count": 30,
      "outputs": []
    },
    {
      "metadata": {
        "ExecuteTime": {
          "end_time": "2023-06-20T12:31:25.503317Z",
          "start_time": "2023-06-20T12:31:25.313231Z"
        },
        "trusted": false
      },
      "id": "5080f8ee",
      "cell_type": "code",
      "source": "model_RF_1.fit(X_train,Y_train)",
      "execution_count": 31,
      "outputs": [
        {
          "data": {
            "text/plain": "RandomForestClassifier(max_features=3, n_estimators=50)"
          },
          "execution_count": 31,
          "metadata": {},
          "output_type": "execute_result"
        }
      ]
    },
    {
      "metadata": {
        "ExecuteTime": {
          "end_time": "2023-06-20T12:31:27.201867Z",
          "start_time": "2023-06-20T12:31:27.156787Z"
        },
        "trusted": false
      },
      "id": "86aedbf2",
      "cell_type": "code",
      "source": "model_RF_1.feature_importances_",
      "execution_count": 32,
      "outputs": [
        {
          "data": {
            "text/plain": "array([0.2961588 , 0.09675354, 0.10140106, 0.06708783, 0.11352203,\n       0.12691141, 0.09993446, 0.06151079, 0.02002256, 0.01669752])"
          },
          "execution_count": 32,
          "metadata": {},
          "output_type": "execute_result"
        }
      ]
    },
    {
      "metadata": {
        "ExecuteTime": {
          "end_time": "2023-06-20T11:53:36.843247Z",
          "start_time": "2023-06-20T11:53:36.115380Z"
        }
      },
      "id": "fed85053",
      "cell_type": "markdown",
      "source": "# Fraud Question 2"
    },
    {
      "metadata": {
        "ExecuteTime": {
          "end_time": "2023-06-20T12:13:07.071520Z",
          "start_time": "2023-06-20T12:13:06.967126Z"
        },
        "trusted": false
      },
      "id": "57f9bddc",
      "cell_type": "code",
      "source": "fraud=pd.read_csv('Fraud_check.csv')\nfraud",
      "execution_count": 22,
      "outputs": [
        {
          "data": {
            "text/html": "<div>\n<style scoped>\n    .dataframe tbody tr th:only-of-type {\n        vertical-align: middle;\n    }\n\n    .dataframe tbody tr th {\n        vertical-align: top;\n    }\n\n    .dataframe thead th {\n        text-align: right;\n    }\n</style>\n<table border=\"1\" class=\"dataframe\">\n  <thead>\n    <tr style=\"text-align: right;\">\n      <th></th>\n      <th>Undergrad</th>\n      <th>Marital.Status</th>\n      <th>Taxable.Income</th>\n      <th>City.Population</th>\n      <th>Work.Experience</th>\n      <th>Urban</th>\n    </tr>\n  </thead>\n  <tbody>\n    <tr>\n      <th>0</th>\n      <td>NO</td>\n      <td>Single</td>\n      <td>68833</td>\n      <td>50047</td>\n      <td>10</td>\n      <td>YES</td>\n    </tr>\n    <tr>\n      <th>1</th>\n      <td>YES</td>\n      <td>Divorced</td>\n      <td>33700</td>\n      <td>134075</td>\n      <td>18</td>\n      <td>YES</td>\n    </tr>\n    <tr>\n      <th>2</th>\n      <td>NO</td>\n      <td>Married</td>\n      <td>36925</td>\n      <td>160205</td>\n      <td>30</td>\n      <td>YES</td>\n    </tr>\n    <tr>\n      <th>3</th>\n      <td>YES</td>\n      <td>Single</td>\n      <td>50190</td>\n      <td>193264</td>\n      <td>15</td>\n      <td>YES</td>\n    </tr>\n    <tr>\n      <th>4</th>\n      <td>NO</td>\n      <td>Married</td>\n      <td>81002</td>\n      <td>27533</td>\n      <td>28</td>\n      <td>NO</td>\n    </tr>\n    <tr>\n      <th>...</th>\n      <td>...</td>\n      <td>...</td>\n      <td>...</td>\n      <td>...</td>\n      <td>...</td>\n      <td>...</td>\n    </tr>\n    <tr>\n      <th>595</th>\n      <td>YES</td>\n      <td>Divorced</td>\n      <td>76340</td>\n      <td>39492</td>\n      <td>7</td>\n      <td>YES</td>\n    </tr>\n    <tr>\n      <th>596</th>\n      <td>YES</td>\n      <td>Divorced</td>\n      <td>69967</td>\n      <td>55369</td>\n      <td>2</td>\n      <td>YES</td>\n    </tr>\n    <tr>\n      <th>597</th>\n      <td>NO</td>\n      <td>Divorced</td>\n      <td>47334</td>\n      <td>154058</td>\n      <td>0</td>\n      <td>YES</td>\n    </tr>\n    <tr>\n      <th>598</th>\n      <td>YES</td>\n      <td>Married</td>\n      <td>98592</td>\n      <td>180083</td>\n      <td>17</td>\n      <td>NO</td>\n    </tr>\n    <tr>\n      <th>599</th>\n      <td>NO</td>\n      <td>Divorced</td>\n      <td>96519</td>\n      <td>158137</td>\n      <td>16</td>\n      <td>NO</td>\n    </tr>\n  </tbody>\n</table>\n<p>600 rows × 6 columns</p>\n</div>",
            "text/plain": "    Undergrad Marital.Status  Taxable.Income  City.Population  \\\n0          NO         Single           68833            50047   \n1         YES       Divorced           33700           134075   \n2          NO        Married           36925           160205   \n3         YES         Single           50190           193264   \n4          NO        Married           81002            27533   \n..        ...            ...             ...              ...   \n595       YES       Divorced           76340            39492   \n596       YES       Divorced           69967            55369   \n597        NO       Divorced           47334           154058   \n598       YES        Married           98592           180083   \n599        NO       Divorced           96519           158137   \n\n     Work.Experience Urban  \n0                 10   YES  \n1                 18   YES  \n2                 30   YES  \n3                 15   YES  \n4                 28    NO  \n..               ...   ...  \n595                7   YES  \n596                2   YES  \n597                0   YES  \n598               17    NO  \n599               16    NO  \n\n[600 rows x 6 columns]"
          },
          "execution_count": 22,
          "metadata": {},
          "output_type": "execute_result"
        }
      ]
    },
    {
      "metadata": {
        "ExecuteTime": {
          "end_time": "2023-06-20T12:19:31.629866Z",
          "start_time": "2023-06-20T12:19:31.437924Z"
        },
        "trusted": false
      },
      "id": "cbcb9188",
      "cell_type": "code",
      "source": "fraud[\"TaxStatus\"] = pd.cut(fraud[\"Taxable.Income\"], bins = [0,30000,1000000], labels = [\"Risky\", \"Good\"])\nfraud.drop(['Taxable.Income'],axis=1)",
      "execution_count": 23,
      "outputs": [
        {
          "data": {
            "text/html": "<div>\n<style scoped>\n    .dataframe tbody tr th:only-of-type {\n        vertical-align: middle;\n    }\n\n    .dataframe tbody tr th {\n        vertical-align: top;\n    }\n\n    .dataframe thead th {\n        text-align: right;\n    }\n</style>\n<table border=\"1\" class=\"dataframe\">\n  <thead>\n    <tr style=\"text-align: right;\">\n      <th></th>\n      <th>Undergrad</th>\n      <th>Marital.Status</th>\n      <th>City.Population</th>\n      <th>Work.Experience</th>\n      <th>Urban</th>\n      <th>TaxStatus</th>\n    </tr>\n  </thead>\n  <tbody>\n    <tr>\n      <th>0</th>\n      <td>NO</td>\n      <td>Single</td>\n      <td>50047</td>\n      <td>10</td>\n      <td>YES</td>\n      <td>Good</td>\n    </tr>\n    <tr>\n      <th>1</th>\n      <td>YES</td>\n      <td>Divorced</td>\n      <td>134075</td>\n      <td>18</td>\n      <td>YES</td>\n      <td>Good</td>\n    </tr>\n    <tr>\n      <th>2</th>\n      <td>NO</td>\n      <td>Married</td>\n      <td>160205</td>\n      <td>30</td>\n      <td>YES</td>\n      <td>Good</td>\n    </tr>\n    <tr>\n      <th>3</th>\n      <td>YES</td>\n      <td>Single</td>\n      <td>193264</td>\n      <td>15</td>\n      <td>YES</td>\n      <td>Good</td>\n    </tr>\n    <tr>\n      <th>4</th>\n      <td>NO</td>\n      <td>Married</td>\n      <td>27533</td>\n      <td>28</td>\n      <td>NO</td>\n      <td>Good</td>\n    </tr>\n    <tr>\n      <th>...</th>\n      <td>...</td>\n      <td>...</td>\n      <td>...</td>\n      <td>...</td>\n      <td>...</td>\n      <td>...</td>\n    </tr>\n    <tr>\n      <th>595</th>\n      <td>YES</td>\n      <td>Divorced</td>\n      <td>39492</td>\n      <td>7</td>\n      <td>YES</td>\n      <td>Good</td>\n    </tr>\n    <tr>\n      <th>596</th>\n      <td>YES</td>\n      <td>Divorced</td>\n      <td>55369</td>\n      <td>2</td>\n      <td>YES</td>\n      <td>Good</td>\n    </tr>\n    <tr>\n      <th>597</th>\n      <td>NO</td>\n      <td>Divorced</td>\n      <td>154058</td>\n      <td>0</td>\n      <td>YES</td>\n      <td>Good</td>\n    </tr>\n    <tr>\n      <th>598</th>\n      <td>YES</td>\n      <td>Married</td>\n      <td>180083</td>\n      <td>17</td>\n      <td>NO</td>\n      <td>Good</td>\n    </tr>\n    <tr>\n      <th>599</th>\n      <td>NO</td>\n      <td>Divorced</td>\n      <td>158137</td>\n      <td>16</td>\n      <td>NO</td>\n      <td>Good</td>\n    </tr>\n  </tbody>\n</table>\n<p>600 rows × 6 columns</p>\n</div>",
            "text/plain": "    Undergrad Marital.Status  City.Population  Work.Experience Urban TaxStatus\n0          NO         Single            50047               10   YES      Good\n1         YES       Divorced           134075               18   YES      Good\n2          NO        Married           160205               30   YES      Good\n3         YES         Single           193264               15   YES      Good\n4          NO        Married            27533               28    NO      Good\n..        ...            ...              ...              ...   ...       ...\n595       YES       Divorced            39492                7   YES      Good\n596       YES       Divorced            55369                2   YES      Good\n597        NO       Divorced           154058                0   YES      Good\n598       YES        Married           180083               17    NO      Good\n599        NO       Divorced           158137               16    NO      Good\n\n[600 rows x 6 columns]"
          },
          "execution_count": 23,
          "metadata": {},
          "output_type": "execute_result"
        }
      ]
    },
    {
      "metadata": {
        "ExecuteTime": {
          "end_time": "2023-06-20T12:21:55.303260Z",
          "start_time": "2023-06-20T12:21:55.247808Z"
        },
        "trusted": false
      },
      "id": "3d5b2509",
      "cell_type": "code",
      "source": "from sklearn import preprocessing\nlabel_encoder = preprocessing.LabelEncoder()\nfraud['Undergrad']= label_encoder.fit_transform(fraud['Undergrad'])\nfraud['Marital.Status']= label_encoder.fit_transform(fraud['Marital.Status'])\nfraud['Urban']= label_encoder.fit_transform(fraud['Urban'])\nfraud['TaxStatus']= label_encoder.fit_transform(fraud['TaxStatus'])\nfraud",
      "execution_count": 25,
      "outputs": [
        {
          "data": {
            "text/html": "<div>\n<style scoped>\n    .dataframe tbody tr th:only-of-type {\n        vertical-align: middle;\n    }\n\n    .dataframe tbody tr th {\n        vertical-align: top;\n    }\n\n    .dataframe thead th {\n        text-align: right;\n    }\n</style>\n<table border=\"1\" class=\"dataframe\">\n  <thead>\n    <tr style=\"text-align: right;\">\n      <th></th>\n      <th>Undergrad</th>\n      <th>Marital.Status</th>\n      <th>Taxable.Income</th>\n      <th>City.Population</th>\n      <th>Work.Experience</th>\n      <th>Urban</th>\n      <th>TaxStatus</th>\n    </tr>\n  </thead>\n  <tbody>\n    <tr>\n      <th>0</th>\n      <td>0</td>\n      <td>2</td>\n      <td>68833</td>\n      <td>50047</td>\n      <td>10</td>\n      <td>1</td>\n      <td>0</td>\n    </tr>\n    <tr>\n      <th>1</th>\n      <td>1</td>\n      <td>0</td>\n      <td>33700</td>\n      <td>134075</td>\n      <td>18</td>\n      <td>1</td>\n      <td>0</td>\n    </tr>\n    <tr>\n      <th>2</th>\n      <td>0</td>\n      <td>1</td>\n      <td>36925</td>\n      <td>160205</td>\n      <td>30</td>\n      <td>1</td>\n      <td>0</td>\n    </tr>\n    <tr>\n      <th>3</th>\n      <td>1</td>\n      <td>2</td>\n      <td>50190</td>\n      <td>193264</td>\n      <td>15</td>\n      <td>1</td>\n      <td>0</td>\n    </tr>\n    <tr>\n      <th>4</th>\n      <td>0</td>\n      <td>1</td>\n      <td>81002</td>\n      <td>27533</td>\n      <td>28</td>\n      <td>0</td>\n      <td>0</td>\n    </tr>\n    <tr>\n      <th>...</th>\n      <td>...</td>\n      <td>...</td>\n      <td>...</td>\n      <td>...</td>\n      <td>...</td>\n      <td>...</td>\n      <td>...</td>\n    </tr>\n    <tr>\n      <th>595</th>\n      <td>1</td>\n      <td>0</td>\n      <td>76340</td>\n      <td>39492</td>\n      <td>7</td>\n      <td>1</td>\n      <td>0</td>\n    </tr>\n    <tr>\n      <th>596</th>\n      <td>1</td>\n      <td>0</td>\n      <td>69967</td>\n      <td>55369</td>\n      <td>2</td>\n      <td>1</td>\n      <td>0</td>\n    </tr>\n    <tr>\n      <th>597</th>\n      <td>0</td>\n      <td>0</td>\n      <td>47334</td>\n      <td>154058</td>\n      <td>0</td>\n      <td>1</td>\n      <td>0</td>\n    </tr>\n    <tr>\n      <th>598</th>\n      <td>1</td>\n      <td>1</td>\n      <td>98592</td>\n      <td>180083</td>\n      <td>17</td>\n      <td>0</td>\n      <td>0</td>\n    </tr>\n    <tr>\n      <th>599</th>\n      <td>0</td>\n      <td>0</td>\n      <td>96519</td>\n      <td>158137</td>\n      <td>16</td>\n      <td>0</td>\n      <td>0</td>\n    </tr>\n  </tbody>\n</table>\n<p>600 rows × 7 columns</p>\n</div>",
            "text/plain": "     Undergrad  Marital.Status  Taxable.Income  City.Population  \\\n0            0               2           68833            50047   \n1            1               0           33700           134075   \n2            0               1           36925           160205   \n3            1               2           50190           193264   \n4            0               1           81002            27533   \n..         ...             ...             ...              ...   \n595          1               0           76340            39492   \n596          1               0           69967            55369   \n597          0               0           47334           154058   \n598          1               1           98592           180083   \n599          0               0           96519           158137   \n\n     Work.Experience  Urban  TaxStatus  \n0                 10      1          0  \n1                 18      1          0  \n2                 30      1          0  \n3                 15      1          0  \n4                 28      0          0  \n..               ...    ...        ...  \n595                7      1          0  \n596                2      1          0  \n597                0      1          0  \n598               17      0          0  \n599               16      0          0  \n\n[600 rows x 7 columns]"
          },
          "execution_count": 25,
          "metadata": {},
          "output_type": "execute_result"
        }
      ]
    },
    {
      "metadata": {
        "ExecuteTime": {
          "end_time": "2023-06-20T12:26:17.864720Z",
          "start_time": "2023-06-20T12:26:17.846140Z"
        },
        "trusted": false
      },
      "id": "c2bba7ff",
      "cell_type": "code",
      "source": "X2=fraud.drop(['TaxStatus'],axis=1)\nY2=fraud['TaxStatus']",
      "execution_count": 27,
      "outputs": []
    },
    {
      "metadata": {
        "ExecuteTime": {
          "end_time": "2023-06-20T12:26:57.821755Z",
          "start_time": "2023-06-20T12:26:56.267058Z"
        },
        "trusted": false
      },
      "id": "20a8d68d",
      "cell_type": "code",
      "source": "seed=7\nkfold=KFold(n_splits=10,random_state=seed,shuffle=True)\ncart=DecisionTreeClassifier()\nnum_trees=50\nmodel_B_2=BaggingClassifier(base_estimator=cart,n_estimators=num_trees,random_state=seed)\nresult=cross_val_score(model_B_2,X2,Y2,cv=kfold)\nprint(result.mean())",
      "execution_count": 28,
      "outputs": [
        {
          "name": "stdout",
          "output_type": "stream",
          "text": "0.9983333333333334\n"
        }
      ]
    },
    {
      "metadata": {
        "ExecuteTime": {
          "end_time": "2023-06-20T12:29:45.749431Z",
          "start_time": "2023-06-20T12:29:44.342304Z"
        },
        "trusted": false
      },
      "id": "0bb67a5e",
      "cell_type": "code",
      "source": "num_trees=50 \nkFold=KFold(n_splits=10,random_state=seed,shuffle=True)\nmodel_RF_2=RandomForestClassifier(n_estimators=num_trees,max_features=3)\nResult=cross_val_score(model_RF_2,X2,Y2,cv=kFold)\nprint(Result.mean())",
      "execution_count": 29,
      "outputs": [
        {
          "name": "stdout",
          "output_type": "stream",
          "text": "0.9983333333333334\n"
        }
      ]
    },
    {
      "metadata": {
        "ExecuteTime": {
          "end_time": "2023-06-20T12:31:54.108927Z",
          "start_time": "2023-06-20T12:31:54.092925Z"
        },
        "trusted": false
      },
      "id": "0223d96f",
      "cell_type": "code",
      "source": "X2_train,X2_test,Y2_train,Y2_test=train_test_split(X2,Y2,test_size=0.25,random_state=7)",
      "execution_count": 33,
      "outputs": []
    },
    {
      "metadata": {
        "ExecuteTime": {
          "end_time": "2023-06-20T12:32:23.903687Z",
          "start_time": "2023-06-20T12:32:23.747345Z"
        },
        "trusted": false
      },
      "id": "89ed258e",
      "cell_type": "code",
      "source": "model_RF_2.fit(X2_train,Y2_train)",
      "execution_count": 34,
      "outputs": [
        {
          "data": {
            "text/plain": "RandomForestClassifier(max_features=3, n_estimators=50)"
          },
          "execution_count": 34,
          "metadata": {},
          "output_type": "execute_result"
        }
      ]
    },
    {
      "metadata": {
        "ExecuteTime": {
          "end_time": "2023-06-20T12:32:57.036091Z",
          "start_time": "2023-06-20T12:32:56.998145Z"
        },
        "trusted": false
      },
      "id": "93dae67b",
      "cell_type": "code",
      "source": "model_RF_2.feature_importances_",
      "execution_count": 35,
      "outputs": [
        {
          "data": {
            "text/plain": "array([1.37971824e-03, 7.26673338e-04, 9.61724141e-01, 2.37028021e-02,\n       1.13845176e-02, 1.08214732e-03])"
          },
          "execution_count": 35,
          "metadata": {},
          "output_type": "execute_result"
        }
      ]
    }
  ],
  "metadata": {
    "kernelspec": {
      "name": "python3",
      "display_name": "Python 3 (ipykernel)",
      "language": "python"
    },
    "language_info": {
      "name": "python",
      "version": "3.9.12",
      "mimetype": "text/x-python",
      "codemirror_mode": {
        "name": "ipython",
        "version": 3
      },
      "pygments_lexer": "ipython3",
      "nbconvert_exporter": "python",
      "file_extension": ".py"
    },
    "gist": {
      "id": "",
      "data": {
        "description": "Assignment 15 Random Forest.ipynb",
        "public": true
      }
    }
  },
  "nbformat": 4,
  "nbformat_minor": 5
}